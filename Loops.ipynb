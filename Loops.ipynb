{
 "cells": [
  {
   "cell_type": "markdown",
   "metadata": {},
   "source": [
    "# Assignment/Task 1"
   ]
  },
  {
   "cell_type": "markdown",
   "metadata": {},
   "source": [
    "We are having 3 list like this\n",
    "Colors = [“Yellow”,”Green”,”White”,”Black”]\n",
    "\n",
    "Fruits=[“Apple”,”Papaya”,”Mango”,”Orange”]\n",
    "\n",
    "Animals=[“Tiger”,”Lion”,”Deer”,”Zebra”]\n"
   ]
  },
  {
   "cell_type": "markdown",
   "metadata": {},
   "source": [
    "#### Q1. Write a program that asks user to enter a Color/Fruit/Animal name and it should tell which category belongs to , like its is a fruit or color or Animal"
   ]
  },
  {
   "cell_type": "code",
   "execution_count": 3,
   "metadata": {},
   "outputs": [
    {
     "name": "stdout",
     "output_type": "stream",
     "text": [
      "Enter Color/Fruit/Animal name: Mango\n",
      "Mango belongs to Fruits category\n"
     ]
    }
   ],
   "source": [
    "Colors = ['Yellow','Green','White','Black']\n",
    "Fruits = ['Apple', 'Papaya', 'Mango', 'Orange']\n",
    "Animals = ['Tiger', 'Lion', 'Deer', 'Zebra']\n",
    "enter = input(\"Enter Color/Fruit/Animal name: \")\n",
    "if enter in Colors:\n",
    "    print(\"{} belongs to Colors category\".format(enter))\n",
    "elif enter in Fruits:\n",
    "    print(\"{} belongs to Fruits category\".format(enter))\n",
    "elif enter in Animals:\n",
    "    print(\"{} belongs to Animals category\".format(enter))\n",
    "else:\n",
    "     print(\"{} belongs to None of the above categories\".format(enter))"
   ]
  },
  {
   "cell_type": "markdown",
   "metadata": {},
   "source": [
    "#### Q2. Write a program that asks user to enter two cities and it tells you if they both are in same country or not. For example if I enter yellow and Black, it will print \"Both are colors\" but if I enter yellow and Tiger it should print \"They don't belong to same category\""
   ]
  },
  {
   "cell_type": "code",
   "execution_count": 4,
   "metadata": {},
   "outputs": [
    {
     "name": "stdout",
     "output_type": "stream",
     "text": [
      "Enter Color/Fruit/Animal name:White\n",
      "Enter Color/Fruit/Animal name:Green\n",
      "Both are colors\n"
     ]
    }
   ],
   "source": [
    "input1 = input(\"Enter Color/Fruit/Animal name:\")\n",
    "input2 = input(\"Enter Color/Fruit/Animal name:\")\n",
    "\n",
    "if (input1 in Colors) and (input2 in Colors):\n",
    "    print(\"Both are colors\")\n",
    "elif (input1 in Fruits) and (input2 in Fruits):\n",
    "    print(\"Both are Fruits\")\n",
    "elif (input1 in Animals) and (input2 in Animals):\n",
    "    print(\"Both are Animals\")\n",
    "else:\n",
    "     print(\"They don't belong to same category\")"
   ]
  },
  {
   "cell_type": "code",
   "execution_count": 5,
   "metadata": {},
   "outputs": [
    {
     "name": "stdout",
     "output_type": "stream",
     "text": [
      "Enter your grades:69\n",
      "score is Good\n"
     ]
    }
   ],
   "source": [
    "grades = int(input(\"Enter your grades:\"))\n",
    "if grades < 40:\n",
    "    print(\"score is Low\")\n",
    "elif (grades >= 40) and (grades <= 60):\n",
    "    print(\"score is Normal\")\n",
    "else:\n",
    "    print(\"score is Good\")"
   ]
  },
  {
   "cell_type": "markdown",
   "metadata": {},
   "source": [
    "#### Q3: Write a python program that can tell you if your grade score good or not . Normal Score range is 40 to 60.\n",
    "\n",
    "- i. Ask user to enter his score.\n",
    "\n",
    "- ii. If it is below 40 to 60 range then print that score is low\n",
    "\n",
    "- iii. If it is above 60 then print that it is good otherwise print that it is normal\n",
    "    "
   ]
  },
  {
   "cell_type": "markdown",
   "metadata": {},
   "source": [
    "#### Q4. After appearing in exam 10 times you got this result,\n",
    "- result = [\"Pass\",\"Fail\",\"Fail\",\"Pass\",\"Fail\",\"Pass\",\"Pass\",\"Fail\",\"Fail\",\"Fail\"]\n",
    "\n",
    "- Using for loop figure out how many times you got Pass\n",
    "\n"
   ]
  },
  {
   "cell_type": "code",
   "execution_count": 6,
   "metadata": {},
   "outputs": [],
   "source": [
    "result = [\"Pass\",\"Fail\",\"Fail\",\"Pass\",\"Fail\",\"Pass\",\"Pass\",\"Fail\",\"Fail\",\"Fail\"]"
   ]
  },
  {
   "cell_type": "code",
   "execution_count": 7,
   "metadata": {},
   "outputs": [
    {
     "name": "stdout",
     "output_type": "stream",
     "text": [
      "You have Passed 4 times in the examinations.\n"
     ]
    }
   ],
   "source": [
    "count = 0\n",
    "for i in result:\n",
    "    if i == \"Pass\":\n",
    "        count += 1\n",
    "print(\"You have Passed {} times in the examinations.\".format(count))"
   ]
  },
  {
   "cell_type": "markdown",
   "metadata": {},
   "source": [
    "#### Q5.Write a program that prints following shape"
   ]
  },
  {
   "cell_type": "code",
   "execution_count": 8,
   "metadata": {
    "scrolled": false
   },
   "outputs": [
    {
     "name": "stdout",
     "output_type": "stream",
     "text": [
      "*\n",
      "**\n",
      "***\n",
      "****\n",
      "*****\n",
      "****\n",
      "***\n",
      "**\n",
      "*\n"
     ]
    }
   ],
   "source": [
    "for i in range(1,6):\n",
    "    for j in range(1, i+1):\n",
    "        print(\"*\", end=\"\")\n",
    "    print(\"\")\n",
    "for i in range(5,1, -1):\n",
    "    for j in range(0, i-1):\n",
    "        print(\"*\", end=\"\")\n",
    "    print(\"\")"
   ]
  },
  {
   "cell_type": "markdown",
   "metadata": {},
   "source": [
    "#### Q6.Lets say you are running a 50 km race. Write a program that,\n",
    "\n",
    "Upon completing each 10 km asks you \"are you tired?\" If you reply \"yes\" then it should break and print \"you didn't finish the race\" If you reply \"no\" then it should continue and ask \"are you tired\" on every km If you finish all 50 km then it should print congratulations message"
   ]
  },
  {
   "cell_type": "code",
   "execution_count": 9,
   "metadata": {},
   "outputs": [
    {
     "name": "stdout",
     "output_type": "stream",
     "text": [
      "are you tired?(yes/no)yes\n",
      "you did not finish the race\n"
     ]
    }
   ],
   "source": [
    "count = 0\n",
    "for i in range(1,51):\n",
    "    if(i%10) == 0:\n",
    "        answer = input('are you tired?(yes/no)')\n",
    "        if answer == 'yes':\n",
    "            print('you did not finish the race')\n",
    "            count = 1\n",
    "            break\n",
    "        elif answer == 'no':\n",
    "            continue\n",
    "if count == 0:\n",
    "     print('Congratulations!! you finish the race')"
   ]
  },
  {
   "cell_type": "markdown",
   "metadata": {},
   "source": [
    "#### Q7. Write a Python program to find those numbers which are divisible by 7 and multiple of 5, between 1500 and 2700 (both included)."
   ]
  },
  {
   "cell_type": "code",
   "execution_count": 10,
   "metadata": {
    "scrolled": true
   },
   "outputs": [
    {
     "name": "stdout",
     "output_type": "stream",
     "text": [
      "[1505, 1540, 1575, 1610, 1645, 1680, 1715, 1750, 1785, 1820, 1855, 1890, 1925, 1960, 1995, 2030, 2065, 2100, 2135, 2170, 2205, 2240, 2275, 2310, 2345, 2380, 2415, 2450, 2485, 2520, 2555, 2590, 2625, 2660, 2695]\n"
     ]
    }
   ],
   "source": [
    "lst= []\n",
    "for num in range(1500, 2701):\n",
    "    if ((num % 7) == 0) and ((num % 5) == 0):\n",
    "        lst.append(num)\n",
    "print(lst)"
   ]
  },
  {
   "cell_type": "markdown",
   "metadata": {},
   "source": [
    "#### Q8.Print square of all numbers between 10 to 20 except even numbers"
   ]
  },
  {
   "cell_type": "code",
   "execution_count": 11,
   "metadata": {},
   "outputs": [
    {
     "name": "stdout",
     "output_type": "stream",
     "text": [
      "[121, 169, 225, 289, 361]\n"
     ]
    }
   ],
   "source": [
    "squares= []\n",
    "for i in range(10,21):\n",
    "    if (i % 2) != 0:\n",
    "        squares.append(i*i)\n",
    "print(squares)\n",
    "    "
   ]
  },
  {
   "cell_type": "markdown",
   "metadata": {},
   "source": [
    "#### Q9.Your Marks for five Test(test1 to test5) looks like this,\n",
    "\n",
    "marks_list = [65, 75, 2100, 95, 83]\n",
    "\n",
    "Write a program that asks you to enter marks and program should tell you in which test that marks occurred. If marks is not found then it should print that as well."
   ]
  },
  {
   "cell_type": "code",
   "execution_count": 12,
   "metadata": {},
   "outputs": [],
   "source": [
    "marks_list = [65,75,2100,95,83]"
   ]
  },
  {
   "cell_type": "code",
   "execution_count": 13,
   "metadata": {
    "scrolled": true
   },
   "outputs": [
    {
     "name": "stdout",
     "output_type": "stream",
     "text": [
      "Enter marks from your text75\n"
     ]
    }
   ],
   "source": [
    "marks = int(input(\"Enter marks from your text\"))"
   ]
  },
  {
   "cell_type": "code",
   "execution_count": 14,
   "metadata": {
    "scrolled": false
   },
   "outputs": [
    {
     "name": "stdout",
     "output_type": "stream",
     "text": [
      "You scored 75 in test2.\n"
     ]
    }
   ],
   "source": [
    "if marks in marks_list:\n",
    "    index = int(marks_list.index(marks))\n",
    "    print(\"You scored {} in test{}.\".format(marks,index+1))\n",
    "else:\n",
    "    print(\"Marks not found in the five tests\")"
   ]
  },
  {
   "cell_type": "markdown",
   "metadata": {},
   "source": [
    "#### Added by contributor\n",
    "Example of **while** loop, datetime module used to get current year\n",
    "Q9. Use while loop and print that in the year 2030 lockdown has ended"
   ]
  },
  {
   "cell_type": "code",
   "execution_count": 15,
   "metadata": {},
   "outputs": [
    {
     "name": "stdout",
     "output_type": "stream",
     "text": [
      "2022 Lockdown still going on,...\n",
      "2023 Lockdown still going on,...\n",
      "2024 Lockdown still going on,...\n",
      "2025 Lockdown still going on,...\n",
      "2026 Lockdown still going on,...\n",
      "2027 Lockdown still going on,...\n",
      "2028 Lockdown still going on,...\n",
      "2029 Lockdown still going on,...\n",
      "it's year 2030, lockdown finally ended\n"
     ]
    }
   ],
   "source": [
    "import time\n",
    "from datetime import datetime\n",
    "year = int(datetime.now().strftime('%Y'))+1\n",
    "\n",
    "while year<2030:\n",
    "    time.sleep(2)\n",
    "    print(year, 'Lockdown still going on,...')\n",
    "    year = year+1\n",
    "else:\n",
    "    print(f\"it's year {year}, lockdown finally ended\")"
   ]
  },
  {
   "cell_type": "markdown",
   "metadata": {},
   "source": [
    "#### This is quick example showing all the loops working together including try and except block\n",
    "Decode by yourself it is interesting."
   ]
  },
  {
   "cell_type": "code",
   "execution_count": 16,
   "metadata": {},
   "outputs": [
    {
     "name": "stdout",
     "output_type": "stream",
     "text": [
      "Welcome, I'm your money saving bot, allow me to access your bank account to procedd further\n",
      "type allow here or hit enter to cancelallow\n",
      "Thank you very much !, I just credited 25000$ into your account, spend wisely\n",
      "Balance -  25000$\n",
      "How much you spend this week? 5000\n",
      "You spent 5000.0$ see you next week, have a nice day!\n",
      "------------------------------\n",
      "7 days later\n",
      "------------------------------\n",
      "Balance -  20000.0$\n",
      "How much you spend this week? 16900\n",
      "You spent 16900.0$ see you next week, have a nice day!\n",
      "------------------------------\n",
      "7 days later\n",
      "------------------------------\n",
      "Balance -  3100.0$\n",
      "How much you spend this week? 99999\n",
      "We're not growing money on tree, spend in your limit\n"
     ]
    }
   ],
   "source": [
    "import time\n",
    "def my_account_bot():\n",
    "    print('Thank you very much !, I just credited 25000$ into your account, spend wisely')\n",
    "    my_money = 25000\n",
    "    while my_money>1000:\n",
    "        print(f'Balance -  {my_money}$')\n",
    "        try:\n",
    "            spent_money = float(input('How much you spend this week? '))\n",
    "            \n",
    "            if spent_money > my_money:\n",
    "                print(\"We're not growing money on tree, spend in your limit\")\n",
    "                break\n",
    "\n",
    "            elif int(spent_money) == 0:\n",
    "                print('Great, looks like you living modest, keep it up !')\n",
    "                break\n",
    "\n",
    "            else:\n",
    "                pass\n",
    "        \n",
    "            my_money = my_money-spent_money\n",
    "            print(f'You spent {spent_money}$ see you next week, have a nice day!')\n",
    "            time.sleep(7)\n",
    "            print('-'*30)\n",
    "            print('7 days later')\n",
    "            print('-'*30)\n",
    "        except:\n",
    "            print('invalid input ! error code [432]')\n",
    "            break\n",
    "\n",
    "    else:\n",
    "        print(\"Oh the remaining balance is too low, I'm closing our conversation, see you in the hell\")\n",
    "        \n",
    "        \n",
    "print(\"Welcome, I'm your money saving bot, allow me to access your bank account to procedd further\")\n",
    "time.sleep(1)\n",
    "\n",
    "decision = input('type allow here or hit enter to cancel')\n",
    "if decision == '':\n",
    "    print('closed')\n",
    "    \n",
    "elif (decision == 'allow') | (decision=='Allow'):\n",
    "    my_account_bot()\n",
    "    \n",
    "else:\n",
    "    print('Seems like you stand next to elon')\n",
    "    retry = input('type yes to allow , or hit enter to leave')\n",
    "    if (retry =='yes') | (retry=='Y') | (retry=='Yes') | (retry=='YES'):\n",
    "        my_account_bot()\n",
    "    else:\n",
    "        pass"
   ]
  },
  {
   "cell_type": "code",
   "execution_count": null,
   "metadata": {},
   "outputs": [],
   "source": []
  }
 ],
 "metadata": {
  "kernelspec": {
   "display_name": "Python 3",
   "language": "python",
   "name": "python3"
  },
  "language_info": {
   "codemirror_mode": {
    "name": "ipython",
    "version": 3
   },
   "file_extension": ".py",
   "mimetype": "text/x-python",
   "name": "python",
   "nbconvert_exporter": "python",
   "pygments_lexer": "ipython3",
   "version": "3.7.9"
  },
  "toc": {
   "base_numbering": 1,
   "nav_menu": {},
   "number_sections": false,
   "sideBar": true,
   "skip_h1_title": false,
   "title_cell": "Table of Contents",
   "title_sidebar": "Contents",
   "toc_cell": false,
   "toc_position": {},
   "toc_section_display": true,
   "toc_window_display": false
  }
 },
 "nbformat": 4,
 "nbformat_minor": 4
}
